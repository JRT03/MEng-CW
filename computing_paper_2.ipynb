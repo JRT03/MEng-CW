{
 "cells": [
  {
   "cell_type": "code",
   "execution_count": 2,
   "metadata": {},
   "outputs": [],
   "source": [
    "import numpy as np\n",
    "import matplotlib.pyplot as plt"
   ]
  },
  {
   "cell_type": "markdown",
   "metadata": {},
   "source": [
    "Question 1"
   ]
  },
  {
   "cell_type": "code",
   "execution_count": 2,
   "metadata": {},
   "outputs": [
    {
     "name": "stdout",
     "output_type": "stream",
     "text": [
      "Number of searches = 1000.0\n",
      "Linear search time:  260.0\n",
      "Binary search time:  8878.29276351969\n",
      "Number of searches = 10000.0\n",
      "Linear search time:  2600.0\n",
      "Binary search time:  8878.446425983555\n",
      "Number of searches = 100000.0\n",
      "Linear search time:  26000.0\n",
      "Binary search time:  8879.983050622193\n"
     ]
    }
   ],
   "source": [
    "\n",
    "n = 26e6\n",
    "\n",
    "searches = [1.0e3, 1.0e4, 1.0e5]\n",
    "for m in searches:\n",
    "\n",
    "    Linear_search_time = m * 1.0e-8 * n\n",
    "    Binary_search_time = m * 1.0e-6 * np.log(n) + 2.0e-5 * n * np.log(n)\n",
    "\n",
    "    print(\"Number of searches =\", m)\n",
    "    print(\"Linear search time: \", Linear_search_time)\n",
    "    print(\"Binary search time: \", Binary_search_time)\n"
   ]
  },
  {
   "cell_type": "markdown",
   "metadata": {},
   "source": [
    "For a small number of searches, linear search is faster, however, for a larger number of searches binary search is faster.\n",
    "\n",
    "The number of searches where binary becomes faster than linear search is when the Linear_search_time = Binary_search_time \\\n",
    "\n",
    "$ => 10^{-8} m n = 10^{-6} m \\log(n) + 2\\times 10^{-5}  n \\log(n) $ \\\n",
    "\n",
    "$ => m ( 10^{-8} n - 10^{-6} \\log(n)) = 2\\times 10^{-5}  n \\log(n) $ \\\n",
    "\n",
    "$ => m = \\cfrac{ 2\\times 10^{-5}  n \\log(n) }{ 10^{-8} n - 10^{-6} \\log(n) }$\n"
   ]
  },
  {
   "cell_type": "code",
   "execution_count": 3,
   "metadata": {},
   "outputs": [
    {
     "name": "stdout",
     "output_type": "stream",
     "text": [
      "34149.45670891916\n"
     ]
    }
   ],
   "source": [
    "m = (2.0e-5 * n * np.log(n)) / (1.0e-8 * n - 1.0e-6 * np.log(n))\n",
    "print(m)"
   ]
  },
  {
   "cell_type": "markdown",
   "metadata": {},
   "source": [
    "Question 2\n",
    "\n",
    "Fast checks:\n",
    "Check that both matrices are square and they are the same shape O(1)\n",
    "\n",
    "Slow checks:\n",
    "Check each if each item in A + B is real O(n^2)\n"
   ]
  },
  {
   "cell_type": "code",
   "execution_count": 4,
   "metadata": {},
   "outputs": [],
   "source": [
    "\n",
    "def evals(A, B):\n",
    "    return np.linalg.eigvals(A + B)\n",
    "\n",
    "a = 21\n",
    "b = 67\n",
    "\n",
    "A_diagonal = np.random.rand(10)\n",
    "B_diagonal = np.random.rand(10)\n",
    "\n",
    "A = np.diag(A_diagonal)\n",
    "B = np.diag(B_diagonal)\n",
    "\n",
    "assert np.allclose(sorted(evals(A, B)), sorted(A_diagonal + B_diagonal))\n"
   ]
  },
  {
   "cell_type": "markdown",
   "metadata": {},
   "source": [
    "Taylor series expansion for $ f(x+h) $\n",
    "\n",
    "$ f(x+h) = f(x)+hf'(x)+\\cfrac{h^2}{2!}f''(x)+\\cfrac{h^3}{3!}f'''(x)$ \\\n",
    "\n",
    "$ Substituting in for one sided difference\n",
    "\n",
    "$ \\cfrac{df(x)}{dx} \\approx \\cfrac{f(x+h)-f(x)}{j}$ \\\n",
    "\n",
    "$ = \\cfrac{f(x)+hf'(x)+\\mathcal{O}(h^2) - f(x)}{h}  $ \\\n",
    "\n",
    "$ = f'(x) + \\mathcal{O} $\n",
    "\n",
    "Therefor the error in the derivative is proportional to the error in the original taylor series\n",
    "For symmetrical difference\n",
    "\n",
    "$ \\cfrac{df(x)}{dx} \\approx \\cfrac{f(x+h)-f(x-h)}{2h} $ \\\n",
    "\n",
    "$ = \\cfrac{ ( f(x)+hf'(x)+\\cfrac{h^2}{2!}f''(x) + \\mathcal{O}(h^3)) - ( f(x)-hf'(x)+\\cfrac{h^2}{2!}f''(x) + \\mathcal{O}(h^3))}{2h} $ \\\n",
    "\n",
    "$ = f'(x) + \\mathcal{O}(h^2) $\n",
    "\n",
    "Error in $f'(x)$ proportional to the error in $f(x)$ squared \\\n",
    "For example if the error in $f(x)$ halved, the error in $f'(x)$ would quarter"
   ]
  },
  {
   "cell_type": "code",
   "execution_count": 5,
   "metadata": {},
   "outputs": [
    {
     "data": {
      "text/plain": [
       "<matplotlib.legend.Legend at 0x16c0884aee0>"
      ]
     },
     "execution_count": 5,
     "metadata": {},
     "output_type": "execute_result"
    },
    {
     "data": {
      "image/png": "[encoded data removed]",
      "text/plain": [
       "<Figure size 432x288 with 1 Axes>"
      ]
     },
     "metadata": {
      "needs_background": "light"
     },
     "output_type": "display_data"
    }
   ],
   "source": [
    "\n",
    "def one_sided_difference(f, x, h):\n",
    "    return (f(x + h) - f(x)) / h\n",
    "\n",
    "def two_sided_difference(f, x, h):\n",
    "    return (f(x + h) - f(x - h)) / (2 * h)\n",
    "\n",
    "H = np.logspace(-10, 0, num=100)\n",
    "x = 1.0\n",
    "\n",
    "f = lambda y: np.sin(y)\n",
    "\n",
    "one_sided_errors = []\n",
    "two_sided_errors = []\n",
    "\n",
    "for h in H:\n",
    "\n",
    "    one_sided_error = abs(one_sided_difference(f, x, h) - np.cos(x))\n",
    "    one_sided_errors.append(one_sided_error)\n",
    "    two_sided_error = abs(two_sided_difference(f, x, h) - np.cos(x))\n",
    "    two_sided_errors.append(two_sided_error)\n",
    "\n",
    "    #print(\"h =\", h)\n",
    "    #print(\"One-sided error: \", one_sided_error)\n",
    "    #print(\"Two-sided error: \", two_sided_error)\n",
    "\n",
    "plt.plot(H, one_sided_errors, label=\"One-sided error\")\n",
    "plt.plot(H, two_sided_errors, label=\"Two-sided error\")\n",
    "plt.legend()\n",
    "\n"
   ]
  },
  {
   "cell_type": "markdown",
   "metadata": {},
   "source": []
  },
  {
   "cell_type": "code",
   "execution_count": 1,
   "metadata": {},
   "outputs": [
    {
     "name": "stdout",
     "output_type": "stream",
     "text": [
      "dy/dx = 2*x**3*cos(x**2) + 2*x*sin(x**2)\n"
     ]
    },
    {
     "ename": "NameError",
     "evalue": "name 'plt' is not defined",
     "output_type": "error",
     "traceback": [
      "\u001b[1;31m---------------------------------------------------------------------------\u001b[0m",
      "\u001b[1;31mNameError\u001b[0m                                 Traceback (most recent call last)",
      "\u001b[1;32mc:\\Users\\Louis\\source\\repos\\IA_computing\\computing_paper_2.ipynb Cell 11'\u001b[0m in \u001b[0;36m<cell line: 18>\u001b[1;34m()\u001b[0m\n\u001b[0;32m     <a href='vscode-notebook-cell:/c%3A/Users/Louis/source/repos/IA_computing/computing_paper_2.ipynb#ch0000018?line=13'>14</a>\u001b[0m Xinputs \u001b[39m=\u001b[39m [\u001b[39m10\u001b[39m, \u001b[39m100\u001b[39m, \u001b[39m1000\u001b[39m, \u001b[39m1000\u001b[39m, \u001b[39m10000\u001b[39m]\n\u001b[0;32m     <a href='vscode-notebook-cell:/c%3A/Users/Louis/source/repos/IA_computing/computing_paper_2.ipynb#ch0000018?line=14'>15</a>\u001b[0m H \u001b[39m=\u001b[39m [\u001b[39m1.0e-9\u001b[39m, \u001b[39m1.0e-12\u001b[39m, \u001b[39m1.0e-15\u001b[39m]\n\u001b[1;32m---> <a href='vscode-notebook-cell:/c%3A/Users/Louis/source/repos/IA_computing/computing_paper_2.ipynb#ch0000018?line=17'>18</a>\u001b[0m fig, ax \u001b[39m=\u001b[39m plt\u001b[39m.\u001b[39msubplots(\u001b[39mlen\u001b[39m(H), sharex \u001b[39m=\u001b[39m \u001b[39mTrue\u001b[39;00m)\n\u001b[0;32m     <a href='vscode-notebook-cell:/c%3A/Users/Louis/source/repos/IA_computing/computing_paper_2.ipynb#ch0000018?line=19'>20</a>\u001b[0m \u001b[39mfor\u001b[39;00m h \u001b[39min\u001b[39;00m H:\n\u001b[0;32m     <a href='vscode-notebook-cell:/c%3A/Users/Louis/source/repos/IA_computing/computing_paper_2.ipynb#ch0000018?line=20'>21</a>\u001b[0m     complex_step_errors \u001b[39m=\u001b[39m []\n",
      "\u001b[1;31mNameError\u001b[0m: name 'plt' is not defined"
     ]
    }
   ],
   "source": [
    "import sympy\n",
    "\n",
    "\n",
    "\n",
    "x = sympy.Symbol('x')\n",
    "y = x**2 * sympy.sin(x**2)\n",
    "yprime = y.diff(x)\n",
    "print(\"dy/dx =\",yprime)\n",
    "\n",
    "f = lambda y: y**2 * np.sin(y**2)\n",
    "def complex_step_method(f, x, h):\n",
    "    return np.imag(f(x + 1.0j * h)) / h\n",
    "\n",
    "Xinputs = [10, 100, 1000, 1000, 10000]\n",
    "H = [1.0e-9, 1.0e-12, 1.0e-15]\n",
    "\n",
    "\n",
    "fig, ax = plt.subplots(len(H), sharex = True)\n",
    "\n",
    "for h in H:\n",
    "    complex_step_errors = []\n",
    "    for xin in Xinputs:\n",
    "        complex_step_error = abs(complex_step_method(f, xin, h) - yprime.evalf(subs={x: xin}))\n",
    "        complex_step_errors.append(complex_step_error)\n",
    "        print(\"h =\", h, \"x =\", xin, \"error =\", complex_step_error)\n",
    "    ax[H.index(h)].plot(Xinputs, complex_step_errors, label=\"h = %g\" % h)"
   ]
  }
 ],
 "metadata": {
  "interpreter": {
   "hash": "ac59ebe37160ed0dfa835113d9b8498d9f09ceb179beaac4002f036b9467c963"
  },
  "kernelspec": {
   "display_name": "Python 3.9.8 64-bit",
   "language": "python",
   "name": "python3"
  },
  "language_info": {
   "codemirror_mode": {
    "name": "ipython",
    "version": 3
   },
   "file_extension": ".py",
   "mimetype": "text/x-python",
   "name": "python",
   "nbconvert_exporter": "python",
   "pygments_lexer": "ipython3",
   "version": "3.9.8"
  },
  "orig_nbformat": 4
 },
 "nbformat": 4,
 "nbformat_minor": 2
}
